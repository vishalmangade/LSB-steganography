{
 "cells": [
  {
   "cell_type": "code",
   "execution_count": 17,
   "metadata": {},
   "outputs": [],
   "source": [
    "#import libs\n",
    "import cv2\n",
    "import numpy as np\n",
    "from PIL import Image"
   ]
  },
  {
   "cell_type": "code",
   "execution_count": 18,
   "metadata": {},
   "outputs": [],
   "source": [
    "#function to convert data into binary\n",
    "def messageToBinary(message):\n",
    "    if type(message) == str:\n",
    "        return ''.join([ format(ord(i), \"08b\") for i in message ])\n",
    "    elif type(message) == bytes or type(message) == np.ndarray:\n",
    "        return [ format(i, \"08b\") for i in message ]\n",
    "    elif type(message) == int or type(message) == np.uint8 or type(message) == np.int64:\n",
    "        return format(message, \"08b\")\n",
    "    else:\n",
    "        TypeError(\"Format does not support\")\n",
    "        return"
   ]
  },
  {
   "cell_type": "code",
   "execution_count": 19,
   "metadata": {},
   "outputs": [],
   "source": [
    "# Encode data into image - 1 LSB steganography\n",
    "def encode(): \n",
    "  image_name = \"a.png\"  #image name to read\n",
    "  image = cv2.imread(image_name,0) # Read the input image using OpenCV-Python.\n",
    "  #It is a library of Python bindings designed to solve computer vision problems. \n",
    "  # image = cv2.resize(image, (128,128), interpolation = cv2.INTER_AREA)\n",
    "\n",
    "\n",
    "  \n",
    "  #details of the image\n",
    "  print(\"The shape of the image is: \",image.shape) #check the shape of image to calculate the number of bytes in it\n",
    "  \n",
    "      \n",
    "  input_file = open(\"input.txt\",\"r\")\n",
    "  data = input_file.read()\n",
    "  if (len(data) == 0): \n",
    "    raise ValueError('Data is empty')\n",
    "  \n",
    "  data += \"$$$$$\" # you can use any string as the delimeter\n",
    "  \n",
    "  # convert input data to binary format using messageToBinary() fucntion\n",
    "  binary_data = messageToBinary(data)\n",
    "  \n",
    "  # save binary data to binary.txt file\n",
    "  binary_file = open(\"binary.txt\",\"w\")\n",
    "  binary_file.write(str(binary_data))\n",
    "  binary_file.close()\n",
    "  \n",
    "  stega_image = \"a1.png\" #name of ecoded image (output image after steganography)\n",
    "  \n",
    "  # calculate the maximum bytes to encode\n",
    "  n_bytes = image.shape[0] * image.shape[1]\n",
    "  print(\"Maximum bytes to encode:\", n_bytes)\n",
    "\n",
    "  #Check if the number of bytes to encode is less than the maximum bytes in the image\n",
    "  if len(binary_data) > n_bytes:\n",
    "      raise ValueError(\"Error encountered insufficient bytes, need bigger image or less data !!\")\n",
    "  \n",
    "\n",
    "  data_index = 0 # keep track of where we are in the binary data\n",
    "  data_len = len(binary_data) #Find the length of data that needs to be hidden\n",
    "  \n",
    "  for i in range(0,len(image)):\n",
    "      for j in range(0,len(image[0])):\n",
    "         image[i][j] = image[i][j]//2 \n",
    "         image[i][j] = image[i][j]*2    #after devided by 2 and multiplied by 2 last 1 bit become zero\n",
    "         image[i][j] = image[i][j] + int(binary_data[data_index:data_index+1]) # add 1 bit of data to pixel value\n",
    "         data_index += 1\n",
    "         if data_index >= data_len:\n",
    "               break\n",
    "      if data_index >= data_len:\n",
    "               break\n",
    "  \n",
    "  cv2.imwrite(stega_image, image)"
   ]
  },
  {
   "cell_type": "code",
   "execution_count": 20,
   "metadata": {},
   "outputs": [],
   "source": [
    "# Encode data into image \n",
    "def encode2(): \n",
    "  image_name = \"a.png\"\n",
    "  image = cv2.imread(image_name,0) # Read the input image using OpenCV-Python.\n",
    "  #It is a library of Python bindings designed to solve computer vision problems. \n",
    "  # image = cv2.resize(image, (128,128), interpolation = cv2.INTER_AREA)\n",
    "\n",
    "\n",
    "  \n",
    "  #details of the image\n",
    "  print(\"The shape of the image is: \",image.shape) #check the shape of image to calculate the number of bytes in it\n",
    "  \n",
    "      \n",
    "  input_file = open(\"input.txt\",\"r\")\n",
    "  data = input_file.read()\n",
    "  if (len(data) == 0): \n",
    "    raise ValueError('Data is empty')\n",
    "  \n",
    "  data += \"$$$$$\" # you can use any string as the delimeter\n",
    "  \n",
    "  # convert input data to binary format using messageToBinary() fucntion\n",
    "  binary_data = messageToBinary(data)\n",
    "  \n",
    "  # save binary data to binary.txt file\n",
    "  binary_file = open(\"binary.txt\",\"w\")\n",
    "  binary_file.write(str(binary_data))\n",
    "  binary_file.close()\n",
    "  \n",
    "  stega_image = \"a2.png\" #name of ecoded image (output image after steganography)\n",
    "  \n",
    "  # calculate the maximum bytes to encode\n",
    "  n_bytes = image.shape[0] * image.shape[1]\n",
    "  print(\"Maximum bytes to encode:\", n_bytes)\n",
    "\n",
    "  #Check if the number of bytes to encode is less than the maximum bytes in the image\n",
    "  if len(binary_data) > n_bytes:\n",
    "      raise ValueError(\"Error encountered insufficient bytes, need bigger image or less data !!\")\n",
    "  \n",
    "\n",
    "  data_index = 0 # keep track of where we are in the binary data\n",
    "  data_len = len(binary_data) #Find the length of data that needs to be hidden\n",
    "  \n",
    "  for i in range(0,len(image)):\n",
    "      for j in range(0,len(image[0])):\n",
    "         image[i][j] = image[i][j]//4\n",
    "         image[i][j] = image[i][j]*4 #after devided by 4 and multiplied by 4 last 2 bit become zero\n",
    "         image[i][j] = image[i][j] + int(binary_data[data_index:data_index+2]) # add 2 bit of data to pixel value\n",
    "         data_index += 2\n",
    "         if data_index >= data_len:\n",
    "               break\n",
    "      if data_index >= data_len:\n",
    "               break\n",
    "  \n",
    "  cv2.imwrite(stega_image, image)"
   ]
  },
  {
   "cell_type": "code",
   "execution_count": 21,
   "metadata": {},
   "outputs": [],
   "source": [
    "# Encode data into image \n",
    "def encode3(): \n",
    "  image_name = \"a.png\"\n",
    "  image = cv2.imread(image_name,0) # Read the input image using OpenCV-Python.\n",
    "  #It is a library of Python bindings designed to solve computer vision problems. \n",
    "  # image = cv2.resize(image, (128,128), interpolation = cv2.INTER_AREA)\n",
    "\n",
    "\n",
    "  \n",
    "  #details of the image\n",
    "  print(\"The shape of the image is: \",image.shape) #check the shape of image to calculate the number of bytes in it\n",
    "  \n",
    "      \n",
    "  input_file = open(\"input.txt\",\"r\")\n",
    "  data = input_file.read()\n",
    "  if (len(data) == 0): \n",
    "    raise ValueError('Data is empty')\n",
    "  \n",
    "  data += \"$$$$$\" # you can use any string as the delimeter\n",
    "  \n",
    "  # convert input data to binary format using messageToBinary() fucntion\n",
    "  binary_data = messageToBinary(data)\n",
    "  \n",
    "  # save binary data to binary.txt file\n",
    "  binary_file = open(\"binary.txt\",\"w\")\n",
    "  binary_file.write(str(binary_data))\n",
    "  binary_file.close()\n",
    "  \n",
    "  stega_image = \"a3.png\" #name of ecoded image (output image after steganography)\n",
    "  \n",
    "  # calculate the maximum bytes to encode\n",
    "  n_bytes = image.shape[0] * image.shape[1]\n",
    "  print(\"Maximum bytes to encode:\", n_bytes)\n",
    "\n",
    "  #Check if the number of bytes to encode is less than the maximum bytes in the image\n",
    "  if len(binary_data) > n_bytes:\n",
    "      raise ValueError(\"Error encountered insufficient bytes, need bigger image or less data !!\")\n",
    "  \n",
    "\n",
    "  data_index = 0 # keep track of where we are in the binary data\n",
    "  data_len = len(binary_data) #Find the length of data that needs to be hidden\n",
    "  \n",
    "  for i in range(0,len(image)):\n",
    "      for j in range(0,len(image[0])):\n",
    "         image[i][j] = image[i][j]//8\n",
    "         image[i][j] = image[i][j]*8  #after devided by 8 and multiplied by 8 last 3 bit become zero\n",
    "         image[i][j] = image[i][j] + int(binary_data[data_index:data_index+3]) # add 3 bit of data to pixel\n",
    "         data_index += 3\n",
    "         if data_index >= data_len:\n",
    "               break\n",
    "      if data_index >= data_len:\n",
    "               break\n",
    "  \n",
    "  cv2.imwrite(stega_image, image)"
   ]
  },
  {
   "cell_type": "code",
   "execution_count": 22,
   "metadata": {},
   "outputs": [],
   "source": [
    "# Decode the data in the image \n",
    "def decode():\n",
    "  # read the image that contains the hidden image\n",
    "  image_name = \"a1.png\" #name of ecoded image (output image after steganography)\n",
    "  image = cv2.imread(image_name,0) #read the image using cv2.imread() \n",
    "  \n",
    "  binary_data = \"\"\n",
    "  for values in image:\n",
    "      for pixel in values:\n",
    "          binary_data += str(pixel%2) #read last 1 bit of each pixel and add it to binary data\n",
    "         \n",
    "  # split by 8-bits\n",
    "  all_bytes = [binary_data[i: i+8] for i in range(0, len(binary_data), 8) ]\n",
    "  \n",
    "  # convert from bits to characters\n",
    "  decoded_data = \"\"\n",
    "  for byte in all_bytes:\n",
    "      decoded_data += chr(int(byte, 2))\n",
    "      if decoded_data[-5:] == \"$$$$$\": #check if we have reached the delimeter which is $$$$$\n",
    "          break\n",
    "  #print(decoded_data)\n",
    "  text =  decoded_data[:-5] #remove the delimeter to show the original hidden message\n",
    "  \n",
    "  \n",
    "#   text = showData(image)\n",
    "#   #print(text)\n",
    "  \n",
    "  #save the decoded data to output.txt file\n",
    "  output_file = open(\"output.txt\",\"w\")\n",
    "  output_file.write(text)\n",
    "  output_file.close()"
   ]
  },
  {
   "cell_type": "code",
   "execution_count": 23,
   "metadata": {},
   "outputs": [],
   "source": []
  },
  {
   "cell_type": "code",
   "execution_count": null,
   "metadata": {},
   "outputs": [],
   "source": [
    "def decode2():\n",
    "      # read the image that contains the hidden image\n",
    "  image_name = \"a2.png\" #name of ecoded image (output image after steganography)\n",
    "  image = cv2.imread(image_name,0) #read the image using cv2.imread() \n",
    "  \n",
    "  binary_data = \"\"\n",
    "  for values in image:\n",
    "      for pixel in values:\n",
    "          binary_data += str(messageToBinary(pixel%4)[-2:])\n",
    "\n",
    "         \n",
    "  # split by 8-bits\n",
    "  all_bytes = [binary_data[i: i+8] for i in range(0, len(binary_data), 8) ]\n",
    "\n",
    "  # convert from bits to characters\n",
    "  decoded_data = \"\"\n",
    "  for byte in all_bytes:\n",
    "      decoded_data += chr(int(byte, 2))\n",
    "      if decoded_data[-5:] == \"$$$$$\": #check if we have reached the delimeter which is $$$$$\n",
    "          break\n",
    "  #print(decoded_data)\n",
    "  text =  decoded_data[:-5] #remove the delimeter to show the original hidden message\n",
    "  \n",
    "  \n",
    "#   text = showData(image)\n",
    "#   #print(text)\n",
    "  \n",
    "  #save the decoded data to output.txt file\n",
    "  output_file = open(\"output2.txt\",\"w\")\n",
    "  output_file.write(text)\n",
    "  output_file.close()"
   ]
  },
  {
   "cell_type": "code",
   "execution_count": null,
   "metadata": {},
   "outputs": [],
   "source": [
    "def decode3():\n",
    "      # read the image that contains the hidden image\n",
    "  image_name = \"a3.png\" #name of ecoded image (output image after steganography)\n",
    "  image = cv2.imread(image_name,0) #read the image using cv2.imread() \n",
    "  \n",
    "  binary_data = \"\"\n",
    "  for values in image:\n",
    "      for pixel in values:\n",
    "          binary_data += str(messageToBinary(pixel%8)[-3:])\n",
    "          \n",
    "         \n",
    "  # split by 8-bits\n",
    "  all_bytes = [binary_data[i: i+8] for i in range(0, len(binary_data), 8) ]\n",
    "\n",
    "  # convert from bits to characters\n",
    "  decoded_data = \"\"\n",
    "  for byte in all_bytes:\n",
    "      decoded_data += chr(int(byte, 2))\n",
    "      if decoded_data[-5:] == \"$$$$$\": #check if we have reached the delimeter which is $$$$$\n",
    "          break\n",
    "  #print(decoded_data)\n",
    "  text =  decoded_data[:-5] #remove the delimeter to show the original hidden message\n",
    "  \n",
    "  \n",
    "#   text = showData(image)\n",
    "#   #print(text)\n",
    "  \n",
    "  #save the decoded data to output.txt file\n",
    "  output_file = open(\"output3.txt\",\"w\")\n",
    "  output_file.write(text)\n",
    "  output_file.close()"
   ]
  },
  {
   "cell_type": "markdown",
   "metadata": {},
   "source": [
    "# optimised version of above decode function \n",
    "# this function does not read from all pixel\n",
    "# this functon read only data pixel"
   ]
  },
  {
   "cell_type": "code",
   "execution_count": null,
   "metadata": {},
   "outputs": [],
   "source": [
    "\n",
    "def decode_():\n",
    "  # read the image that contains the hidden image\n",
    "  image_name = \"a1.png\" #name of ecoded image (output image after steganography)\n",
    "  image = cv2.imread(image_name,0) #read the image using cv2.imread() \n",
    "  \n",
    "  binary_data = \"\"\n",
    "  decoded_data = \"\"\n",
    "  for values in image:\n",
    "      for pixel in values:\n",
    "          binary_data += str(pixel%2) #read last 1 bit of each pixel and add it to binary data\n",
    "          if(len(binary_data) == 8):\n",
    "                decoded_data += chr(int(binary_data, 2))\n",
    "                binary_data = \"\"\n",
    "                if decoded_data[-5:] == \"$$$$$\": #check if we have reached the delimeter which is $$$$$\n",
    "                  break\n",
    "      if decoded_data[-5:] == \"$$$$$\": #check if we have reached the delimeter which is $$$$$\n",
    "        break\n",
    "                \n",
    "  text =  decoded_data[:-5] #remove the delimeter to show the original hidden message\n",
    "  \n",
    "  \n",
    "#   text = showData(image)\n",
    "#   #print(text)\n",
    "  \n",
    "  #save the decoded data to output.txt file\n",
    "  output_file = open(\"output.txt\",\"w\")\n",
    "  output_file.write(text)\n",
    "  output_file.close()"
   ]
  },
  {
   "cell_type": "code",
   "execution_count": 31,
   "metadata": {},
   "outputs": [],
   "source": [
    "def decode2_():\n",
    "      # read the image that contains the hidden image\n",
    "  image_name = \"a2.png\" #name of ecoded image (output image after steganography)\n",
    "  image = cv2.imread(image_name,0) #read the image using cv2.imread() \n",
    "  \n",
    "  binary_data = \"\"\n",
    "  decoded_data = \"\"\n",
    "  for values in image:\n",
    "      for pixel in values:\n",
    "          binary_data += str(messageToBinary(pixel%4)[-2:])\n",
    "          if(len(binary_data) == 8):\n",
    "                decoded_data += chr(int(binary_data, 2))\n",
    "                binary_data = \"\"\n",
    "                if decoded_data[-5:] == \"$$$$$\": #check if we have reached the delimeter which is $$$$$\n",
    "                  break\n",
    "      if decoded_data[-5:] == \"$$$$$\": #check if we have reached the delimeter which is $$$$$\n",
    "        break\n",
    "              \n",
    "  #print(decoded_data)\n",
    "  text =  decoded_data[:-5] #remove the delimeter to show the original hidden message\n",
    "  \n",
    "  \n",
    "#   text = showData(image)\n",
    "#   #print(text)\n",
    "  \n",
    "  #save the decoded data to output.txt file\n",
    "  output_file = open(\"output2.txt\",\"w\")\n",
    "  output_file.write(text)\n",
    "  output_file.close()"
   ]
  },
  {
   "cell_type": "code",
   "execution_count": 37,
   "metadata": {},
   "outputs": [],
   "source": [
    "def decode3_():\n",
    "      # read the image that contains the hidden image\n",
    "  image_name = \"a3.png\" #name of ecoded image (output image after steganography)\n",
    "  image = cv2.imread(image_name,0) #read the image using cv2.imread() \n",
    "  \n",
    "  binary_data = \"\"\n",
    "  decoded_data = \"\"\n",
    "  for values in image:\n",
    "      for pixel in values:\n",
    "          binary_data += str(messageToBinary(pixel%8)[-3:])\n",
    "          if(len(binary_data) >= 8):\n",
    "                byte = binary_data[0:8]\n",
    "                decoded_data += chr(int(byte, 2))\n",
    "                binary_data = binary_data[8:]\n",
    "                if decoded_data[-5:] == \"$$$$$\": #check if we have reached the delimeter which is $$$$$\n",
    "                  break\n",
    "      if decoded_data[-5:] == \"$$$$$\": #check if we have reached the delimeter which is $$$$$\n",
    "        break\n",
    "              \n",
    "  #print(decoded_data)\n",
    "  text =  decoded_data[:-5] #remove the delimeter to show the original hidden message\n",
    "  \n",
    "  \n",
    "#   text = showData(image)\n",
    "#   #print(text)\n",
    "  \n",
    "  #save the decoded data to output.txt file\n",
    "  output_file = open(\"output3.txt\",\"w\")\n",
    "  output_file.write(text)\n",
    "  output_file.close()"
   ]
  },
  {
   "cell_type": "code",
   "execution_count": null,
   "metadata": {},
   "outputs": [
    {
     "name": "stdout",
     "output_type": "stream",
     "text": [
      "The shape of the image is:  (1110, 1282)\n",
      "Maximum bytes to encode: 1423020\n"
     ]
    }
   ],
   "source": [
    "encode()"
   ]
  },
  {
   "cell_type": "code",
   "execution_count": null,
   "metadata": {},
   "outputs": [
    {
     "name": "stdout",
     "output_type": "stream",
     "text": [
      "The shape of the image is:  (1110, 1282)\n",
      "Maximum bytes to encode: 1423020\n"
     ]
    }
   ],
   "source": [
    "encode2()"
   ]
  },
  {
   "cell_type": "code",
   "execution_count": null,
   "metadata": {},
   "outputs": [
    {
     "name": "stdout",
     "output_type": "stream",
     "text": [
      "The shape of the image is:  (1110, 1282)\n",
      "Maximum bytes to encode: 1423020\n"
     ]
    }
   ],
   "source": [
    "encode3()"
   ]
  },
  {
   "cell_type": "code",
   "execution_count": null,
   "metadata": {},
   "outputs": [],
   "source": [
    "decode()"
   ]
  },
  {
   "cell_type": "code",
   "execution_count": 36,
   "metadata": {},
   "outputs": [],
   "source": [
    "decode2()"
   ]
  },
  {
   "cell_type": "code",
   "execution_count": null,
   "metadata": {},
   "outputs": [],
   "source": [
    "decode3()"
   ]
  },
  {
   "cell_type": "code",
   "execution_count": null,
   "metadata": {},
   "outputs": [],
   "source": [
    "decode_()"
   ]
  },
  {
   "cell_type": "code",
   "execution_count": 32,
   "metadata": {},
   "outputs": [],
   "source": [
    "decode2_()"
   ]
  },
  {
   "cell_type": "code",
   "execution_count": 38,
   "metadata": {},
   "outputs": [],
   "source": [
    "decode3_()"
   ]
  },
  {
   "cell_type": "code",
   "execution_count": null,
   "metadata": {},
   "outputs": [],
   "source": [
    "img_name = \"a.png\"\n",
    "count = 0\n",
    "image = cv2.imread(img_name,0)\n",
    "for value in image:\n",
    "        for pix in value:\n",
    "            print(pix , end=\" \")\n",
    "            count = count + 1\n",
    "            if count == 10:\n",
    "                break\n",
    "        if count == 10:\n",
    "                break"
   ]
  },
  {
   "cell_type": "code",
   "execution_count": null,
   "metadata": {},
   "outputs": [],
   "source": [
    "img_name = \"a1.png\"\n",
    "count = 0\n",
    "image = cv2.imread(img_name,0)\n",
    "for value in image:\n",
    "        for pix in value:\n",
    "            print(pix , end=\" \")\n",
    "            count = count + 1\n",
    "            if count == 10:\n",
    "                break\n",
    "        if count == 10:\n",
    "                break"
   ]
  },
  {
   "cell_type": "code",
   "execution_count": null,
   "metadata": {},
   "outputs": [
    {
     "data": {
      "image/png": "[encoded data removed]",
      "text/plain": [
       "<Figure size 432x288 with 1 Axes>"
      ]
     },
     "metadata": {
      "needs_background": "light"
     },
     "output_type": "display_data"
    },
    {
     "data": {
      "image/png": "[encoded data removed]",
      "text/plain": [
       "<Figure size 432x288 with 1 Axes>"
      ]
     },
     "metadata": {
      "needs_background": "light"
     },
     "output_type": "display_data"
    },
    {
     "data": {
      "image/png": "[encoded data removed]",
      "text/plain": [
       "<Figure size 432x288 with 1 Axes>"
      ]
     },
     "metadata": {
      "needs_background": "light"
     },
     "output_type": "display_data"
    },
    {
     "data": {
      "image/png": "[encoded data removed]",
      "text/plain": [
       "<Figure size 432x288 with 1 Axes>"
      ]
     },
     "metadata": {
      "needs_background": "light"
     },
     "output_type": "display_data"
    }
   ],
   "source": [
    "# Funtion to show histogram on image\n",
    "\n",
    "import numpy as np\n",
    "import cv2\n",
    "from matplotlib import pyplot as plt\n",
    "\n",
    "\n",
    "img1 = cv2.imread('a.png',-1)\n",
    "img2 = cv2.imread('a1.png',-1)\n",
    "img3 = cv2.imread('a2.png',-1)\n",
    "img4 = cv2.imread('a3.png',-1)\n",
    "\n",
    "# cv2.imshow('img',img)\n",
    "plt.hist(img1.ravel(),256,[0,256])\n",
    "plt.title(\"original Image\")\n",
    "plt.xlabel(\"Pixel Values\")\n",
    "plt.ylabel(\"frequency\")\n",
    "plt.show()\n",
    "\n",
    "plt.hist(img2.ravel(),256,[0,256])\n",
    "plt.title(\"1 LSB stega Image\")\n",
    "plt.xlabel(\"Pixel Values\")\n",
    "plt.ylabel(\"frequency\")\n",
    "plt.show()\n",
    "\n",
    "plt.hist(img3.ravel(),256,[0,256])\n",
    "plt.title(\"2 LSB stega Image\")\n",
    "plt.xlabel(\"Pixel Values\")\n",
    "plt.ylabel(\"frequency\")\n",
    "plt.show()\n",
    "\n",
    "plt.hist(img4.ravel(),256,[0,256])\n",
    "plt.title(\"3 LSB stega Image\")\n",
    "plt.xlabel(\"Pixel Values\")\n",
    "plt.ylabel(\"frequency\")\n",
    "plt.show()\n",
    "\n",
    "cv2.waitKey(0)\n",
    "cv2.destroyAllwindows()"
   ]
  },
  {
   "cell_type": "code",
   "execution_count": null,
   "metadata": {},
   "outputs": [
    {
     "name": "stdout",
     "output_type": "stream",
     "text": [
      "1 lsb bit staga\n",
      "Mean Square error is:  0.00019465643490604488\n",
      "Root Mean Square error is:  0.013951933016827628\n",
      "Signal to noise ratio is:  66.79025800492002\n",
      "Peak signal-to-noise ratio is:  85.23811595772918\n",
      "structural similarity index is:  None\n",
      "\n",
      "2 lsb bit staga\n",
      "Mean Square error is:  0.006831246222821886\n",
      "Root Mean Square error is:  0.08265135342401772\n",
      "Signal to noise ratio is:  51.33794626426145\n",
      "Peak signal-to-noise ratio is:  69.7858042170706\n",
      "structural similarity index is:  None\n",
      "\n",
      "3 lsb bit staga\n",
      "Mean Square error is:  0.5284191367654706\n",
      "Root Mean Square error is:  0.7269244367645585\n",
      "Signal to noise ratio is:  32.4531602833044\n",
      "Peak signal-to-noise ratio is:  68.23182842074854\n",
      "structural similarity index is:  None\n"
     ]
    }
   ],
   "source": [
    "# Quality Matrix\n",
    "\n",
    "import cv2\n",
    "import numpy as np\n",
    "import skimage\n",
    "from PIL import Image\n",
    "from math import log10, sqrt\n",
    "from skimage import metrics\n",
    "\n",
    "def mse(vref, vcmp):\n",
    "\tr = np.asarray(vref, dtype=np.float64).ravel()\n",
    "\tc = np.asarray(vcmp, dtype=np.float64).ravel()\n",
    "\treturn np.mean(np.abs(r - c)**2)\n",
    "\n",
    "def rmse(vref, vcmp):\n",
    "\tr = np.asarray(vref, dtype=np.float64).ravel()\n",
    "\tc = np.asarray(vcmp, dtype=np.float64).ravel()\n",
    "\treturn np.sqrt(np.mean((r-c)**2))\n",
    "\n",
    "\n",
    "def simi(vref, vcmp):\n",
    "\tmetrics.structural_similarity(vref, vcmp, full=True)\n",
    "\n",
    "\n",
    "def snr(vref, vcmp):\n",
    "\tdv = np.var(vref)\n",
    "\twith np.errstate(divide='ignore'):\n",
    "\t\trt = dv / mse(vref, vcmp)\n",
    "\treturn 10.0 * np.log10(rt)\n",
    "\n",
    "\n",
    "# def psnr(vref, vcmp, rng=None):\n",
    "# \tif rng is None:\n",
    "# \t\trng = max(vref) - min(vref)\n",
    "# \tdv = (rng + 0.0)**2\n",
    "# \twith np.errstate(divide='ignore'):\n",
    "# \t\trt = dv / mse(vref, vcmp)\n",
    "# \treturn 10.0 * np.log10(rt)\n",
    "\n",
    "def psnr(original, compressed):\n",
    "    mse = np.mean((original - compressed) ** 2)\n",
    "    if(mse == 0):  # MSE is zero means no noise is present in the signal .\n",
    "                  # Therefore PSNR have no importance.\n",
    "        return 100\n",
    "    max_pixel = 255.0\n",
    "    psnr = 20 * log10(max_pixel / sqrt(mse))\n",
    "    return psnr\n",
    "\n",
    "\n",
    "def readImage(file, points):\n",
    "\tim = Image.open(file).convert('L')  \n",
    "\tWIDTH, HEIGHT = im.size\n",
    "\n",
    "\tdata = list(im.getdata())\n",
    "\tdata = [data[offset:offset+WIDTH] for offset in range(0, WIDTH*HEIGHT, WIDTH)]\n",
    "\tROI = []\n",
    "\tfor i in range(len(points)):\n",
    "\t\tROI.append(data[points[i][0]][points[i][1]])\n",
    "\treturn ROI\n",
    "\n",
    "# img1 = readImage('lena.jpg')\n",
    "# img2 = readImage('lena1.jpg')\n",
    "img1 = cv2.imread('a.png',-1)\n",
    "img2 = cv2.imread('a1.png',-1)\n",
    "img3 = cv2.imread('a2.png',-1)\n",
    "img4 = cv2.imread('a3.png',-1)\n",
    "\n",
    "print(\"1 lsb bit staga\")\n",
    "print ('Mean Square error is: ', mse(img1, img2))\n",
    "print ('Root Mean Square error is: ', rmse(img1, img2))\n",
    "print ('Signal to noise ratio is: ', snr(img1, img2))\n",
    "print ('Peak signal-to-noise ratio is: ',psnr(img1, img2))\n",
    "print ('structural similarity index is: ',simi(img1, img2))\n",
    "\n",
    "print()\n",
    "print(\"2 lsb bit staga\")\n",
    "print ('Mean Square error is: ', mse(img1, img3))\n",
    "print ('Root Mean Square error is: ', rmse(img1, img3))\n",
    "print ('Signal to noise ratio is: ', snr(img1, img3))\n",
    "print ('Peak signal-to-noise ratio is: ',psnr(img1, img3))\n",
    "print ('structural similarity index is: ',simi(img1, img3))\n",
    "\n",
    "print()\n",
    "print(\"3 lsb bit staga\")\n",
    "print ('Mean Square error is: ', mse(img1, img4))\n",
    "print ('Root Mean Square error is: ', rmse(img1, img4))\n",
    "print ('Signal to noise ratio is: ', snr(img1, img4))\n",
    "print ('Peak signal-to-noise ratio is: ',psnr(img1, img4))\n",
    "print ('structural similarity index is: ',simi(img1, img4))"
   ]
  }
 ],
 "metadata": {
  "interpreter": {
   "hash": "8f94fb6b10d2e3da169a83620c59b9d76d0357f517ea897f9e96f451a5b1d98c"
  },
  "kernelspec": {
   "display_name": "Python 3.7.13 ('base')",
   "language": "python",
   "name": "python3"
  },
  "language_info": {
   "codemirror_mode": {
    "name": "ipython",
    "version": 3
   },
   "file_extension": ".py",
   "mimetype": "text/x-python",
   "name": "python",
   "nbconvert_exporter": "python",
   "pygments_lexer": "ipython3",
   "version": "3.7.13"
  },
  "orig_nbformat": 4
 },
 "nbformat": 4,
 "nbformat_minor": 2
}
